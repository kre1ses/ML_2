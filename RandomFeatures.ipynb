{
  "cells": [
    {
      "cell_type": "markdown",
      "metadata": {
        "id": "RYp0bXOFK-hP"
      },
      "source": [
        "# Машинное обучение, ФКН ВШЭ\n",
        "\n",
        "## Практическое задание 8. Метод опорных векторов и аппроксимация ядер\n",
        "\n",
        "### Общая информация\n",
        "\n",
        "Дата выдачи: 30.01.2025\n",
        "\n",
        "Мягкий дедлайн: 23:59MSK 16.02.2025\n",
        "\n",
        "Жесткий дедлайн: 23:59MSK 23.02.2025\n",
        "\n",
        "### Оценивание и штрафы\n",
        "Каждая из задач имеет определенную «стоимость» (указана в скобках около задачи). Максимальная оценка за работу (без учёта бонусов) — 10 баллов.\n",
        "\n",
        "Сдавать задание после указанного жёсткого срока сдачи нельзя. При выставлении неполного балла за задание в связи с наличием ошибок на усмотрение проверяющего предусмотрена возможность исправить работу на указанных в ответном письме условиях.\n",
        "\n",
        "Задание выполняется самостоятельно. «Похожие» решения считаются плагиатом и все задействованные студенты (в том числе те, у кого списали) не могут получить за него больше 0 баллов (подробнее о плагиате см. на странице курса). Если вы нашли решение какого-то из заданий (или его часть) в открытом источнике, необходимо указать ссылку на этот источник в отдельном блоке в конце вашей работы (скорее всего вы будете не единственным, кто это нашел, поэтому чтобы исключить подозрение в плагиате, необходима ссылка на источник).\n",
        "\n",
        "Использование генеративных языковых моделей разрешено только в случае явного указания на это. Необходимо прописать (в соответствующих пунктах, где использовались, либо в начале/конце работы):\n",
        "- какая языковая модель использовалась\n",
        "- какие использовались промпты и в каких частях работы\n",
        "- с какими сложностями вы столкнулись при использовании генеративных моделей, с чем они помогли больше всего\n",
        "\n",
        "Неэффективная реализация кода может негативно отразиться на оценке.\n",
        "\n",
        "### Формат сдачи\n",
        "Задания сдаются через систему anytask. Посылка должна содержать:\n",
        "* Ноутбук homework-practice-08-random-features-Username.ipynb\n",
        "\n",
        "Username — ваша фамилия и имя на латинице именно в таком порядке"
      ]
    },
    {
      "cell_type": "markdown",
      "metadata": {
        "id": "vY8vT0W_K-hR"
      },
      "source": [
        "### О задании\n",
        "\n",
        "На занятиях мы подробно обсуждали метод опорных векторов (SVM). В базовой версии в нём нет чего-то особенного — мы всего лишь используем специальную функцию потерь, которая не требует устремлять отступы к бесконечности; ей достаточно, чтобы отступы были не меньше +1. Затем мы узнали, что SVM можно переписать в двойственном виде, который, позволяет заменить скалярные произведения объектов на ядра. Это будет соответствовать построению модели в новом пространстве более высокой размерности, координаты которого представляют собой нелинейные модификации исходных признаков.\n",
        "\n",
        "Ядровой SVM, к сожалению, довольно затратен по памяти (нужно хранить матрицу Грама размера $d \\times d$) и по времени (нужно решать задачу условной оптимизации с квадратичной функцией, а это не очень быстро). Мы обсуждали, что есть способы посчитать новые признаки $\\tilde \\varphi(x)$ на основе исходных так, что скалярные произведения этих новых $\\langle \\tilde \\varphi(x), \\tilde \\varphi(z) \\rangle$ приближают ядро $K(x, z)$.\n",
        "\n",
        "Мы будем исследовать аппроксимации методом Random Fourier Features (RFF, также в литературе встречается название Random Kitchen Sinks) для гауссовых ядер. Будем использовать формулы, которые немного отличаются от того, что было на лекциях (мы добавим сдвиги внутрь тригонометрических функций и будем использовать только косинусы, потому что с нужным сдвигом косинус превратится в синус):\n",
        "$$\\tilde \\varphi(x) = (\n",
        "\\cos (w_1^T x + b_1),\n",
        "\\dots,\n",
        "\\cos (w_n^T x + b_n)\n",
        "),$$\n",
        "где $w_j \\sim \\mathcal{N}(0, 1/\\sigma^2)$, $b_j \\sim U[-\\pi, \\pi]$.\n",
        "\n",
        "На новых признаках $\\tilde \\varphi(x)$ мы будем строить любую линейную модель.\n",
        "\n",
        "Можно считать, что это некоторая новая парадигма построения сложных моделей. Можно направленно искать сложные нелинейные закономерности в данных с помощью градиентного бустинга или нейронных сетей, а можно просто нагенерировать большое количество случайных нелинейных признаков и надеяться, что быстрая и простая модель (то есть линейная) сможет показать на них хорошее качество. В этом задании мы изучим, насколько работоспособна такая идея.\n",
        "\n",
        "### Алгоритм\n",
        "\n",
        "Вам потребуется реализовать следующий алгоритм:\n",
        "1. Понизить размерность выборки до new_dim с помощью метода главных компонент.\n",
        "2. Для полученной выборки оценить гиперпараметр $\\sigma^2$ с помощью эвристики (рекомендуем считать медиану не по всем парам объектов, а по случайному подмножеству из где-то миллиона пар объектов): $$\\sigma^2 = \\text{median}_{i, j = 1, \\dots, \\ell, i \\neq j} \\left\\{\\sum_{k = 1}^{d} (x_{ik} - x_{jk})^2 \\right\\}$$\n",
        "3. Сгенерировать n_features наборов весов $w_j$ и сдвигов $b_j$.\n",
        "4. Сформировать n_features новых признаков по формулам, приведённым выше.\n",
        "5. Обучить линейную модель (логистическую регрессию или SVM) на новых признаках.\n",
        "6. Повторить преобразования (PCA, формирование новых признаков) к тестовой выборке и применить модель."
      ]
    },
    {
      "cell_type": "code",
      "execution_count": null,
      "metadata": {
        "id": "Dmzq3Eo3j__N"
      },
      "outputs": [],
      "source": [
        "%load_ext autoreload\n",
        "%autoreload 2"
      ]
    },
    {
      "cell_type": "markdown",
      "metadata": {
        "id": "N_sGunb7K-hS"
      },
      "source": [
        "Тестировать алгоритм мы будем на данных Fashion MNIST. Ниже код для их загрузки и подготовки."
      ]
    },
    {
      "cell_type": "code",
      "execution_count": null,
      "metadata": {
        "id": "YyG6dBfjK-hS"
      },
      "outputs": [],
      "source": [
        "import numpy as np\n",
        "\n",
        "# 1 Способ\n",
        "import keras\n",
        "from keras.datasets import fashion_mnist\n",
        "(x_train_pics, y_train), (x_test_pics, y_test) = fashion_mnist.load_data()\n",
        "\n",
        "# 2 Способ (если первый не работает)\n",
        "# from sklearn.datasets import fetch_openml\n",
        "# def load_fashion_mnist():\n",
        "#     X, y = fetch_openml('Fashion-MNIST', version=1, return_X_y=True, as_frame=False)\n",
        "#     X = X.reshape(-1, 28, 28).astype('uint8')\n",
        "#     y = y.astype('int64')\n",
        "#     x_train, x_test = X[:60000], X[60000:]\n",
        "#     y_train, y_test = y[:60000], y[60000:]\n",
        "#     return (x_train, y_train), (x_test, y_test)\n",
        "# (x_train_pics, y_train), (x_test_pics, y_test) = load_fashion_mnist()\n",
        "\n",
        "\n",
        "\n",
        "\n",
        "x_train = x_train_pics.reshape(y_train.shape[0], -1)\n",
        "x_test = x_test_pics.reshape(y_test.shape[0], -1)"
      ]
    },
    {
      "cell_type": "markdown",
      "metadata": {
        "id": "vpOQ1ZMej__N"
      },
      "source": [
        "__Задание 0. (0.25 баллов)__\n",
        "\n",
        "**Вопрос:** зачем в алгоритме нужен метод главных компонент?\n",
        "\n",
        "**Ответ:** Благодаря МГК мы снижаем размерность данных, что позволяет оставить наиболее важные признаки и уменьшить сложность вычислений."
      ]
    },
    {
      "cell_type": "markdown",
      "metadata": {
        "id": "rJNN55F7K-hT"
      },
      "source": [
        "__Задание 1. (3 балла)__\n",
        "\n",
        "Реализуйте алгоритм, описанный выше. Можете воспользоваться шаблоном класса в `homework_practice_08_rff.py` (допишите его и исправьте несостыковки в классе пайплайна) или написать свой интерфейс.\n",
        "\n",
        "Ваша реализация должна поддерживать следующие опции:\n",
        "1. Возможность задавать значения гиперпараметров new_dim (по умолчанию 50) и n_features (по умолчанию 1000).\n",
        "2. Возможность включать или выключать предварительное понижение размерности с помощью метода главных компонент.\n",
        "3. Возможность выбирать тип линейной модели (логистическая регрессия или SVM с линейным ядром).\n",
        "\n",
        "Протестируйте на данных Fashion MNIST, сформированных кодом выше. Если на тесте у вас получилась доля верных ответов не ниже 0.84 с гиперпараметрами по умолчанию, то вы всё сделали правильно."
      ]
    },
    {
      "cell_type": "code",
      "execution_count": null,
      "metadata": {
        "id": "jP8yepx8K-hT",
        "scrolled": true
      },
      "outputs": [],
      "source": [
        "from homework_practice_08_rff import RFFPipeline, RandomFeatureCreator\n",
        "\n",
        "np.random.seed(52)\n",
        "pipeline = RFFPipeline(n_features=1000, new_dim=50, feature_creator_class=RandomFeatureCreator)"
      ]
    },
    {
      "cell_type": "code",
      "source": [
        "from sklearn.metrics import accuracy_score\n",
        "import time"
      ],
      "metadata": {
        "id": "UUikKoi2t-lY"
      },
      "execution_count": null,
      "outputs": []
    },
    {
      "cell_type": "code",
      "source": [
        "np.random.seed(52)\n",
        "start_time = time.time()\n",
        "pipeline.fit(x_train, y_train)\n",
        "end_time = time.time()\n",
        "print(f\"Время выполнения fit: {end_time - start_time:.4f} секунд\")\n",
        "\n",
        "start_time = time.time()\n",
        "pipeline.predict(x_train)\n",
        "end_time = time.time()\n",
        "print(f\"Время выполнения predict: {end_time - start_time:.4f} секунд\")\n",
        "\n",
        "accuracy = accuracy_score(y_train, pipeline.predict(x_train))\n",
        "print(f\"Train Accuracy: {accuracy:.4f}\")\n",
        "\n",
        "final_accuracy = accuracy_score(y_test, pipeline.predict(x_test))\n",
        "print(f\"Test Accuracy: {final_accuracy:.4f}\")"
      ],
      "metadata": {
        "colab": {
          "base_uri": "https://localhost:8080/"
        },
        "id": "T06uPpWeqi1D",
        "outputId": "7647f125-7e0f-4a0a-cf4e-2f61e27f5774"
      },
      "execution_count": null,
      "outputs": [
        {
          "output_type": "stream",
          "name": "stderr",
          "text": [
            "/usr/local/lib/python3.11/dist-packages/sklearn/linear_model/_logistic.py:465: ConvergenceWarning: lbfgs failed to converge (status=1):\n",
            "STOP: TOTAL NO. of ITERATIONS REACHED LIMIT.\n",
            "\n",
            "Increase the number of iterations (max_iter) or scale the data as shown in:\n",
            "    https://scikit-learn.org/stable/modules/preprocessing.html\n",
            "Please also refer to the documentation for alternative solver options:\n",
            "    https://scikit-learn.org/stable/modules/linear_model.html#logistic-regression\n",
            "  n_iter_i = _check_optimize_result(\n"
          ]
        },
        {
          "output_type": "stream",
          "name": "stdout",
          "text": [
            "Время выполнения fit: 81.0288 секунд\n",
            "Время выполнения predict: 8.7886 секунд\n",
            "Train Accuracy: 0.8883\n",
            "Test Accuracy: 0.8623\n"
          ]
        }
      ]
    },
    {
      "cell_type": "markdown",
      "metadata": {
        "id": "HYqQUEi-K-hU"
      },
      "source": [
        "__Задание 2. (2.5 балла)__\n",
        "\n",
        "Сравните подход со случайными признаками с обучением SVM на исходных признаках. Попробуйте вариант с обычным (линейным) SVM и с ядровым SVM. Ядровой SVM может очень долго обучаться, поэтому можно делать любые разумные вещи для ускорения: брать подмножество объектов из обучающей выборки, например.\n",
        "\n",
        "Сравните подход со случайными признаками с вариантом, в котором вы понижаете размерность с помощью PCA и обучите градиентный бустинг. Используйте одну из реализаций CatBoost/LightGBM/XGBoost.\n",
        "\n",
        "Сделайте выводы — насколько идея со случайными признаками работает? Сравните как с точки зрения качества, так и с точки зрения скорости обучения и применения."
      ]
    },
    {
      "cell_type": "code",
      "execution_count": null,
      "metadata": {
        "id": "qN8LUlJgK-hV",
        "colab": {
          "base_uri": "https://localhost:8080/"
        },
        "outputId": "b50d161d-a1ea-42f9-94cb-ec5fd352ff65"
      },
      "outputs": [
        {
          "output_type": "stream",
          "name": "stderr",
          "text": [
            "/usr/local/lib/python3.11/dist-packages/dask/dataframe/__init__.py:42: FutureWarning: \n",
            "Dask dataframe query planning is disabled because dask-expr is not installed.\n",
            "\n",
            "You can install it with `pip install dask[dataframe]` or `conda install dask`.\n",
            "This will raise in a future version.\n",
            "\n",
            "  warnings.warn(msg, FutureWarning)\n"
          ]
        }
      ],
      "source": [
        "from sklearn.linear_model import LogisticRegression\n",
        "from sklearn.decomposition import PCA\n",
        "from sklearn.svm import SVC\n",
        "from lightgbm import LGBMClassifier"
      ]
    },
    {
      "cell_type": "code",
      "source": [
        "np.random.seed(52)\n",
        "indexes = np.random.choice(len(y_train), size=(len(y_train) // 20), replace=False)\n",
        "x_train_subset = x_train[indexes]\n",
        "y_train_subset = y_train[indexes]\n",
        "\n",
        "indexes = np.random.choice(len(y_test), size=(len(y_test) // 20), replace=False)\n",
        "x_test_subset = x_test[indexes]\n",
        "y_test_subset = y_test[indexes]"
      ],
      "metadata": {
        "id": "xJSUu4vGULmj"
      },
      "execution_count": null,
      "outputs": []
    },
    {
      "cell_type": "code",
      "source": [
        "np.random.seed(52)\n",
        "log_reg = LogisticRegression()\n",
        "\n",
        "start_time = time.time()\n",
        "log_reg.fit(x_train_subset, y_train_subset)\n",
        "end_time = time.time()\n",
        "print(f\"Время выполнения fit: {end_time - start_time:.4f} секунд\")\n",
        "\n",
        "start_time = time.time()\n",
        "preds = log_reg.predict(x_test_subset)\n",
        "end_time = time.time()\n",
        "print(f\"Время выполнения predict: {end_time - start_time:.4f} секунд\")\n",
        "\n",
        "print(f'Accuracy with Logistic Regression on train: {accuracy_score(y_train_subset, log_reg.predict(x_train_subset))}')\n",
        "print(f'Accuracy with Logistic Regression on test: {accuracy_score(y_test_subset, preds)}')"
      ],
      "metadata": {
        "colab": {
          "base_uri": "https://localhost:8080/"
        },
        "id": "LNPMgZViT0_O",
        "outputId": "a42c74b2-a382-4a1d-cfe3-cde793f79ede"
      },
      "execution_count": null,
      "outputs": [
        {
          "output_type": "stream",
          "name": "stdout",
          "text": [
            "Время выполнения fit: 2.6692 секунд\n",
            "Время выполнения predict: 0.0027 секунд\n",
            "Accuracy with Logistic Regression on train: 0.9673333333333334\n",
            "Accuracy with Logistic Regression on test: 0.786\n"
          ]
        },
        {
          "output_type": "stream",
          "name": "stderr",
          "text": [
            "/usr/local/lib/python3.11/dist-packages/sklearn/linear_model/_logistic.py:465: ConvergenceWarning: lbfgs failed to converge (status=1):\n",
            "STOP: TOTAL NO. of ITERATIONS REACHED LIMIT.\n",
            "\n",
            "Increase the number of iterations (max_iter) or scale the data as shown in:\n",
            "    https://scikit-learn.org/stable/modules/preprocessing.html\n",
            "Please also refer to the documentation for alternative solver options:\n",
            "    https://scikit-learn.org/stable/modules/linear_model.html#logistic-regression\n",
            "  n_iter_i = _check_optimize_result(\n"
          ]
        }
      ]
    },
    {
      "cell_type": "code",
      "source": [
        "np.random.seed(52)\n",
        "\n",
        "pca = PCA(n_components=100)\n",
        "x_train_pca = pca.fit_transform(x_train_subset)\n",
        "x_test_pca = pca.transform(x_test_subset)"
      ],
      "metadata": {
        "id": "YUscARhUdiHB"
      },
      "execution_count": null,
      "outputs": []
    },
    {
      "cell_type": "code",
      "source": [
        "np.random.seed(52)\n",
        "\n",
        "log_reg= LogisticRegression()\n",
        "\n",
        "start_time = time.time()\n",
        "log_reg.fit(x_train_pca, y_train_subset)\n",
        "end_time = time.time()\n",
        "print(f\"Время выполнения fit: {end_time - start_time:.4f} секунд\")\n",
        "\n",
        "start_time = time.time()\n",
        "preds = log_reg.predict(x_test_pca)\n",
        "end_time = time.time()\n",
        "print(f\"Время выполнения predict: {end_time - start_time:.4f} секунд\")\n",
        "\n",
        "print(f'Accuracy with Logistic Regression + PCA on train: {accuracy_score(y_train_subset, log_reg.predict(x_train_pca))}')\n",
        "print(f'Accuracy with Logistic Regression + PCA on test: {accuracy_score(y_test_subset, preds)}')"
      ],
      "metadata": {
        "colab": {
          "base_uri": "https://localhost:8080/"
        },
        "id": "hJixNRNwUF6k",
        "outputId": "892c412b-4022-44a2-cd76-1af925cea3e5"
      },
      "execution_count": null,
      "outputs": [
        {
          "output_type": "stream",
          "name": "stdout",
          "text": [
            "Время выполнения fit: 0.4190 секунд\n",
            "Время выполнения predict: 0.0020 секунд\n",
            "Accuracy with Logistic Regression + PCA on train: 0.908\n",
            "Accuracy with Logistic Regression + PCA on test: 0.774\n"
          ]
        },
        {
          "output_type": "stream",
          "name": "stderr",
          "text": [
            "/usr/local/lib/python3.11/dist-packages/sklearn/linear_model/_logistic.py:465: ConvergenceWarning: lbfgs failed to converge (status=1):\n",
            "STOP: TOTAL NO. of ITERATIONS REACHED LIMIT.\n",
            "\n",
            "Increase the number of iterations (max_iter) or scale the data as shown in:\n",
            "    https://scikit-learn.org/stable/modules/preprocessing.html\n",
            "Please also refer to the documentation for alternative solver options:\n",
            "    https://scikit-learn.org/stable/modules/linear_model.html#logistic-regression\n",
            "  n_iter_i = _check_optimize_result(\n"
          ]
        }
      ]
    },
    {
      "cell_type": "code",
      "source": [
        "np.random.seed(52)\n",
        "pipeline_no_PCA = RFFPipeline(n_features=1000, new_dim=50, use_PCA = False, feature_creator_class=RandomFeatureCreator)\n",
        "pipeline_no_PCA.fit(x_train_subset, y_train_subset)\n",
        "\n",
        "start_time = time.time()\n",
        "pipeline_no_PCA.fit(x_train_subset, y_train_subset)\n",
        "end_time = time.time()\n",
        "print(f\"Время выполнения fit: {end_time - start_time:.4f} секунд\")\n",
        "\n",
        "start_time = time.time()\n",
        "preds = pipeline_no_PCA.predict(x_test_subset)\n",
        "end_time = time.time()\n",
        "print(f\"Время выполнения predict: {end_time - start_time:.4f} секунд\")\n",
        "\n",
        "print(f\"Accuracy with Logistic Regression + RFF on train: {accuracy_score(y_train_subset, pipeline_no_PCA.predict(x_train_subset))}\")\n",
        "print(f\"Accuracy with Logistic Regression + RFF on test: {accuracy_score(y_test_subset, preds)}\")"
      ],
      "metadata": {
        "colab": {
          "base_uri": "https://localhost:8080/"
        },
        "id": "2D6Kx_fFUsP1",
        "outputId": "95bf000b-5141-4d43-f7ba-3cd9b9078356"
      },
      "execution_count": null,
      "outputs": [
        {
          "output_type": "stream",
          "name": "stdout",
          "text": [
            "Время выполнения fit: 2.0495 секунд\n",
            "Время выполнения predict: 0.1501 секунд\n",
            "Accuracy with Logistic Regression + RFF on train: 1.0\n",
            "Accuracy with Logistic Regression + RFF on test: 0.118\n"
          ]
        }
      ]
    },
    {
      "cell_type": "code",
      "source": [
        "np.random.seed(52)\n",
        "pipeline_PCA = RFFPipeline(n_features=1000, new_dim=50, use_PCA = True, feature_creator_class=RandomFeatureCreator)\n",
        "pipeline_PCA.fit(x_train_subset, y_train_subset)\n",
        "\n",
        "start_time = time.time()\n",
        "pipeline_PCA.fit(x_train_subset, y_train_subset)\n",
        "end_time = time.time()\n",
        "print(f\"Время выполнения fit: {end_time - start_time:.4f} секунд\")\n",
        "\n",
        "start_time = time.time()\n",
        "preds = pipeline_PCA.predict(x_test_subset)\n",
        "end_time = time.time()\n",
        "print(f\"Время выполнения predict: {end_time - start_time:.4f} секунд\")\n",
        "\n",
        "print(f\"Accuracy with Logistic Regression + RFF + PCA on train: {accuracy_score(y_train_subset, pipeline_PCA.predict(x_train_subset))}\")\n",
        "print(f\"Accuracy with Logistic Regression + RFF + PCA on test: {accuracy_score(y_test_subset, preds)}\")"
      ],
      "metadata": {
        "colab": {
          "base_uri": "https://localhost:8080/"
        },
        "id": "fOzujM5IVdL-",
        "outputId": "3a7c1121-c02f-459b-d38f-d64b4139ee4f"
      },
      "execution_count": null,
      "outputs": [
        {
          "output_type": "stream",
          "name": "stderr",
          "text": [
            "/usr/local/lib/python3.11/dist-packages/sklearn/linear_model/_logistic.py:465: ConvergenceWarning: lbfgs failed to converge (status=1):\n",
            "STOP: TOTAL NO. of ITERATIONS REACHED LIMIT.\n",
            "\n",
            "Increase the number of iterations (max_iter) or scale the data as shown in:\n",
            "    https://scikit-learn.org/stable/modules/preprocessing.html\n",
            "Please also refer to the documentation for alternative solver options:\n",
            "    https://scikit-learn.org/stable/modules/linear_model.html#logistic-regression\n",
            "  n_iter_i = _check_optimize_result(\n",
            "/usr/local/lib/python3.11/dist-packages/sklearn/linear_model/_logistic.py:465: ConvergenceWarning: lbfgs failed to converge (status=1):\n",
            "STOP: TOTAL NO. of ITERATIONS REACHED LIMIT.\n",
            "\n",
            "Increase the number of iterations (max_iter) or scale the data as shown in:\n",
            "    https://scikit-learn.org/stable/modules/preprocessing.html\n",
            "Please also refer to the documentation for alternative solver options:\n",
            "    https://scikit-learn.org/stable/modules/linear_model.html#logistic-regression\n",
            "  n_iter_i = _check_optimize_result(\n"
          ]
        },
        {
          "output_type": "stream",
          "name": "stdout",
          "text": [
            "Время выполнения fit: 13.2637 секунд\n",
            "Время выполнения predict: 0.1241 секунд\n",
            "Accuracy with Logistic Regression + RFF + PCA on train: 0.9963333333333333\n",
            "Accuracy with Logistic Regression + RFF + PCA on test: 0.8\n"
          ]
        }
      ]
    },
    {
      "cell_type": "code",
      "source": [
        "np.random.seed(52)\n",
        "svm_linear = SVC(kernel=\"linear\")\n",
        "\n",
        "start_time = time.time()\n",
        "svm_linear.fit(x_train_subset, y_train_subset)\n",
        "end_time = time.time()\n",
        "print(f\"Время выполнения fit: {end_time - start_time:.4f} секунд\")\n",
        "\n",
        "start_time = time.time()\n",
        "preds = svm_linear.predict(x_test_subset)\n",
        "end_time = time.time()\n",
        "print(f\"Время выполнения predict: {end_time - start_time:.4f} секунд\")\n",
        "\n",
        "print(f'Accuracy with Linear SVM on train: {accuracy_score(y_train_subset, svm_linear.predict(x_train_subset))}')\n",
        "print(f'Accuracy with Linear SVM on test: {accuracy_score(y_test_subset, preds)}')"
      ],
      "metadata": {
        "colab": {
          "base_uri": "https://localhost:8080/"
        },
        "id": "1p1rHhpRHTo9",
        "outputId": "28e1a607-4fb8-49ee-f6a1-ea96466b992b"
      },
      "execution_count": null,
      "outputs": [
        {
          "output_type": "stream",
          "name": "stdout",
          "text": [
            "Время выполнения fit: 0.9624 секунд\n",
            "Время выполнения predict: 0.2207 секунд\n",
            "Accuracy with Linear SVM on train: 1.0\n",
            "Accuracy with Linear SVM on test: 0.806\n"
          ]
        }
      ]
    },
    {
      "cell_type": "code",
      "source": [
        "np.random.seed(52)\n",
        "pipeline_SVC_no_PCA = RFFPipeline(n_features=1000, new_dim=50, use_PCA = False, feature_creator_class=RandomFeatureCreator, classifier_class = SVC)\n",
        "\n",
        "start_time = time.time()\n",
        "pipeline_SVC_no_PCA.fit(x_train_subset, y_train_subset)\n",
        "end_time = time.time()\n",
        "print(f\"Время выполнения fit: {end_time - start_time:.4f} секунд\")\n",
        "\n",
        "start_time = time.time()\n",
        "preds = pipeline_SVC_no_PCA.predict(x_test_subset)\n",
        "end_time = time.time()\n",
        "print(f\"Время выполнения predict: {end_time - start_time:.4f} секунд\")\n",
        "\n",
        "print(f'Accuracy with Linear SVM + RFF on train: {accuracy_score(y_train_subset, pipeline_SVC_no_PCA.predict(x_train_subset))}')\n",
        "print(f'Accuracy with Linear SVM + RFF on test: {accuracy_score(y_test_subset, preds)}')"
      ],
      "metadata": {
        "colab": {
          "base_uri": "https://localhost:8080/"
        },
        "id": "We7QZIqmWSJs",
        "outputId": "439097df-772f-4218-f893-9fe6bbf5793f"
      },
      "execution_count": null,
      "outputs": [
        {
          "output_type": "stream",
          "name": "stdout",
          "text": [
            "Время выполнения fit: 6.7918 секунд\n",
            "Время выполнения predict: 3.0343 секунд\n",
            "Accuracy with Linear SVM + RFF on train: 0.9996666666666667\n",
            "Accuracy with Linear SVM + RFF on test: 0.118\n"
          ]
        }
      ]
    },
    {
      "cell_type": "code",
      "source": [
        "np.random.seed(52)\n",
        "pipeline_SVC = RFFPipeline(n_features=1000, new_dim=50, use_PCA = True, feature_creator_class=RandomFeatureCreator, classifier_class = SVC)\n",
        "\n",
        "start_time = time.time()\n",
        "pipeline_SVC.fit(x_train_subset, y_train_subset)\n",
        "end_time = time.time()\n",
        "print(f\"Время выполнения fit: {end_time - start_time:.4f} секунд\")\n",
        "\n",
        "start_time = time.time()\n",
        "preds = pipeline_SVC.predict(x_test_subset)\n",
        "end_time = time.time()\n",
        "print(f\"Время выполнения predict: {end_time - start_time:.4f} секунд\")\n",
        "\n",
        "print(f'Accuracy with Linear SVM + RFF + PCA on train: {accuracy_score(y_train_subset, pipeline_SVC.predict(x_train_subset))}')\n",
        "print(f'Accuracy with Linear SVM + RFF + PCA on test: {accuracy_score(y_test_subset, preds)}')"
      ],
      "metadata": {
        "colab": {
          "base_uri": "https://localhost:8080/"
        },
        "id": "l9wPEX3bWymU",
        "outputId": "ec714773-2771-4cb1-cf33-0e7c3b6a2b46"
      },
      "execution_count": null,
      "outputs": [
        {
          "output_type": "stream",
          "name": "stdout",
          "text": [
            "Время выполнения fit: 2.9729 секунд\n",
            "Время выполнения predict: 1.5215 секунд\n",
            "Accuracy with Linear SVM + RFF + PCA on train: 0.8636666666666667\n",
            "Accuracy with Linear SVM + RFF + PCA on test: 0.832\n"
          ]
        }
      ]
    },
    {
      "cell_type": "code",
      "source": [
        "np.random.seed(52)\n",
        "svm_kernel = SVC(kernel=\"rbf\")\n",
        "\n",
        "start_time = time.time()\n",
        "svm_kernel.fit(x_train_subset, y_train_subset)\n",
        "end_time = time.time()\n",
        "print(f\"Время выполнения fit: {end_time - start_time:.4f} секунд\")\n",
        "\n",
        "start_time = time.time()\n",
        "preds = svm_kernel.predict(x_test_subset)\n",
        "end_time = time.time()\n",
        "print(f\"Время выполнения predict: {end_time - start_time:.4f} секунд\")\n",
        "\n",
        "print(f'Accuracy with Kernel SVM on train: {accuracy_score(y_train_subset, svm_kernel.predict(x_train_subset))}')\n",
        "print(f'Accuracy with Kernel SVM on test: {accuracy_score(y_test_subset, preds)}')"
      ],
      "metadata": {
        "colab": {
          "base_uri": "https://localhost:8080/"
        },
        "id": "OwE7XxWHIGtJ",
        "outputId": "33ee04f5-fe39-418b-8000-80a1d7a0394e"
      },
      "execution_count": null,
      "outputs": [
        {
          "output_type": "stream",
          "name": "stdout",
          "text": [
            "Время выполнения fit: 1.2533 секунд\n",
            "Время выполнения predict: 1.0313 секунд\n",
            "Accuracy with Kernel SVM on train: 0.889\n",
            "Accuracy with Kernel SVM on test: 0.828\n"
          ]
        }
      ]
    },
    {
      "cell_type": "code",
      "source": [
        "np.random.seed(52)\n",
        "svm_kernel = SVC(kernel=\"rbf\")\n",
        "\n",
        "start_time = time.time()\n",
        "svm_kernel.fit(x_train_pca, y_train_subset)\n",
        "end_time = time.time()\n",
        "print(f\"Время выполнения fit: {end_time - start_time:.4f} секунд\")\n",
        "\n",
        "start_time = time.time()\n",
        "preds = svm_kernel.predict(x_test_pca)\n",
        "end_time = time.time()\n",
        "print(f\"Время выполнения predict: {end_time - start_time:.4f} секунд\")\n",
        "\n",
        "print(f'Accuracy with Kernel SVM + PCA on train: {accuracy_score(y_train_subset, svm_kernel.predict(x_train_pca))}')\n",
        "print(f'Accuracy with Kernel SVM + PCA on test: {accuracy_score(y_test_subset, preds)}')"
      ],
      "metadata": {
        "colab": {
          "base_uri": "https://localhost:8080/"
        },
        "id": "CeCjOlGPX7KE",
        "outputId": "9591fca6-e74c-4eb7-cfe7-c3c084cf9f96"
      },
      "execution_count": null,
      "outputs": [
        {
          "output_type": "stream",
          "name": "stdout",
          "text": [
            "Время выполнения fit: 0.3991 секунд\n",
            "Время выполнения predict: 0.1059 секунд\n",
            "Accuracy with Kernel SVM + PCA on train: 0.8876666666666667\n",
            "Accuracy with Kernel SVM + PCA on test: 0.826\n"
          ]
        }
      ]
    },
    {
      "cell_type": "code",
      "source": [
        "import warnings\n",
        "warnings.filterwarnings(\"ignore\")"
      ],
      "metadata": {
        "id": "wCDdrJsSsSNT"
      },
      "execution_count": null,
      "outputs": []
    },
    {
      "cell_type": "code",
      "source": [
        "np.random.seed(52)\n",
        "\n",
        "lgbm = LGBMClassifier(n_estimators=100)\n",
        "\n",
        "start_time = time.time()\n",
        "lgbm.fit(x_train_subset, y_train_subset)\n",
        "end_time = time.time()\n",
        "print(f\"Время выполнения fit: {end_time - start_time:.4f} секунд\")\n",
        "\n",
        "start_time = time.time()\n",
        "preds = lgbm.predict(x_test_subset)\n",
        "end_time = time.time()\n",
        "print(f\"Время выполнения predict: {end_time - start_time:.4f} секунд\")\n",
        "\n",
        "print(f'Accuracy with LGBM on train: {accuracy_score(y_train_subset, lgbm.predict(x_train_subset))}')\n",
        "print(f'Accuracy with LGBM on test: {accuracy_score(y_test_subset, preds)}')"
      ],
      "metadata": {
        "colab": {
          "base_uri": "https://localhost:8080/"
        },
        "id": "CnZ35432YNSn",
        "outputId": "f4521aa1-33ce-4559-a70e-5096c4f0ba39"
      },
      "execution_count": null,
      "outputs": [
        {
          "output_type": "stream",
          "name": "stdout",
          "text": [
            "[LightGBM] [Info] Auto-choosing col-wise multi-threading, the overhead of testing was 0.056953 seconds.\n",
            "You can set `force_col_wise=true` to remove the overhead.\n",
            "[LightGBM] [Info] Total Bins 142251\n",
            "[LightGBM] [Info] Number of data points in the train set: 3000, number of used features: 772\n",
            "[LightGBM] [Info] Start training from score -2.326195\n",
            "[LightGBM] [Info] Start training from score -2.228715\n",
            "[LightGBM] [Info] Start training from score -2.286056\n",
            "[LightGBM] [Info] Start training from score -2.305924\n",
            "[LightGBM] [Info] Start training from score -2.279520\n",
            "[LightGBM] [Info] Start training from score -2.295941\n",
            "[LightGBM] [Info] Start training from score -2.407946\n",
            "[LightGBM] [Info] Start training from score -2.309274\n",
            "[LightGBM] [Info] Start training from score -2.260164\n",
            "[LightGBM] [Info] Start training from score -2.336487\n",
            "[LightGBM] [Warning] No further splits with positive gain, best gain: -inf\n",
            "[LightGBM] [Warning] No further splits with positive gain, best gain: -inf\n",
            "[LightGBM] [Warning] No further splits with positive gain, best gain: -inf\n",
            "[LightGBM] [Warning] No further splits with positive gain, best gain: -inf\n",
            "[LightGBM] [Warning] No further splits with positive gain, best gain: -inf\n",
            "[LightGBM] [Warning] No further splits with positive gain, best gain: -inf\n",
            "[LightGBM] [Warning] No further splits with positive gain, best gain: -inf\n",
            "[LightGBM] [Warning] No further splits with positive gain, best gain: -inf\n",
            "[LightGBM] [Warning] No further splits with positive gain, best gain: -inf\n",
            "[LightGBM] [Warning] No further splits with positive gain, best gain: -inf\n",
            "[LightGBM] [Warning] No further splits with positive gain, best gain: -inf\n",
            "[LightGBM] [Warning] No further splits with positive gain, best gain: -inf\n",
            "[LightGBM] [Warning] No further splits with positive gain, best gain: -inf\n",
            "[LightGBM] [Warning] No further splits with positive gain, best gain: -inf\n",
            "[LightGBM] [Warning] No further splits with positive gain, best gain: -inf\n",
            "[LightGBM] [Warning] No further splits with positive gain, best gain: -inf\n",
            "[LightGBM] [Warning] No further splits with positive gain, best gain: -inf\n",
            "[LightGBM] [Warning] No further splits with positive gain, best gain: -inf\n",
            "[LightGBM] [Warning] No further splits with positive gain, best gain: -inf\n",
            "[LightGBM] [Warning] No further splits with positive gain, best gain: -inf\n",
            "[LightGBM] [Warning] No further splits with positive gain, best gain: -inf\n",
            "[LightGBM] [Warning] No further splits with positive gain, best gain: -inf\n",
            "[LightGBM] [Warning] No further splits with positive gain, best gain: -inf\n",
            "[LightGBM] [Warning] No further splits with positive gain, best gain: -inf\n",
            "[LightGBM] [Warning] No further splits with positive gain, best gain: -inf\n",
            "[LightGBM] [Warning] No further splits with positive gain, best gain: -inf\n",
            "[LightGBM] [Warning] No further splits with positive gain, best gain: -inf\n",
            "[LightGBM] [Warning] No further splits with positive gain, best gain: -inf\n",
            "[LightGBM] [Warning] No further splits with positive gain, best gain: -inf\n",
            "[LightGBM] [Warning] No further splits with positive gain, best gain: -inf\n",
            "[LightGBM] [Warning] No further splits with positive gain, best gain: -inf\n",
            "[LightGBM] [Warning] No further splits with positive gain, best gain: -inf\n",
            "[LightGBM] [Warning] No further splits with positive gain, best gain: -inf\n",
            "[LightGBM] [Warning] No further splits with positive gain, best gain: -inf\n",
            "[LightGBM] [Warning] No further splits with positive gain, best gain: -inf\n",
            "[LightGBM] [Warning] No further splits with positive gain, best gain: -inf\n",
            "[LightGBM] [Warning] No further splits with positive gain, best gain: -inf\n",
            "[LightGBM] [Warning] No further splits with positive gain, best gain: -inf\n",
            "[LightGBM] [Warning] No further splits with positive gain, best gain: -inf\n",
            "[LightGBM] [Warning] No further splits with positive gain, best gain: -inf\n",
            "[LightGBM] [Warning] No further splits with positive gain, best gain: -inf\n",
            "[LightGBM] [Warning] No further splits with positive gain, best gain: -inf\n",
            "[LightGBM] [Warning] No further splits with positive gain, best gain: -inf\n",
            "[LightGBM] [Warning] No further splits with positive gain, best gain: -inf\n",
            "[LightGBM] [Warning] No further splits with positive gain, best gain: -inf\n",
            "[LightGBM] [Warning] No further splits with positive gain, best gain: -inf\n",
            "[LightGBM] [Warning] No further splits with positive gain, best gain: -inf\n",
            "[LightGBM] [Warning] No further splits with positive gain, best gain: -inf\n",
            "[LightGBM] [Warning] No further splits with positive gain, best gain: -inf\n",
            "[LightGBM] [Warning] No further splits with positive gain, best gain: -inf\n",
            "[LightGBM] [Warning] No further splits with positive gain, best gain: -inf\n",
            "[LightGBM] [Warning] No further splits with positive gain, best gain: -inf\n",
            "[LightGBM] [Warning] No further splits with positive gain, best gain: -inf\n",
            "[LightGBM] [Warning] No further splits with positive gain, best gain: -inf\n",
            "[LightGBM] [Warning] No further splits with positive gain, best gain: -inf\n",
            "[LightGBM] [Warning] No further splits with positive gain, best gain: -inf\n",
            "[LightGBM] [Warning] No further splits with positive gain, best gain: -inf\n",
            "[LightGBM] [Warning] No further splits with positive gain, best gain: -inf\n",
            "[LightGBM] [Warning] No further splits with positive gain, best gain: -inf\n",
            "[LightGBM] [Warning] No further splits with positive gain, best gain: -inf\n",
            "[LightGBM] [Warning] No further splits with positive gain, best gain: -inf\n",
            "[LightGBM] [Warning] No further splits with positive gain, best gain: -inf\n",
            "[LightGBM] [Warning] No further splits with positive gain, best gain: -inf\n",
            "[LightGBM] [Warning] No further splits with positive gain, best gain: -inf\n",
            "[LightGBM] [Warning] No further splits with positive gain, best gain: -inf\n",
            "[LightGBM] [Warning] No further splits with positive gain, best gain: -inf\n",
            "[LightGBM] [Warning] No further splits with positive gain, best gain: -inf\n",
            "[LightGBM] [Warning] No further splits with positive gain, best gain: -inf\n",
            "[LightGBM] [Warning] No further splits with positive gain, best gain: -inf\n",
            "[LightGBM] [Warning] No further splits with positive gain, best gain: -inf\n",
            "[LightGBM] [Warning] No further splits with positive gain, best gain: -inf\n",
            "[LightGBM] [Warning] No further splits with positive gain, best gain: -inf\n",
            "[LightGBM] [Warning] No further splits with positive gain, best gain: -inf\n",
            "[LightGBM] [Warning] No further splits with positive gain, best gain: -inf\n",
            "[LightGBM] [Warning] No further splits with positive gain, best gain: -inf\n",
            "[LightGBM] [Warning] No further splits with positive gain, best gain: -inf\n",
            "[LightGBM] [Warning] No further splits with positive gain, best gain: -inf\n",
            "[LightGBM] [Warning] No further splits with positive gain, best gain: -inf\n",
            "[LightGBM] [Warning] No further splits with positive gain, best gain: -inf\n",
            "[LightGBM] [Warning] No further splits with positive gain, best gain: -inf\n",
            "[LightGBM] [Warning] No further splits with positive gain, best gain: -inf\n",
            "[LightGBM] [Warning] No further splits with positive gain, best gain: -inf\n",
            "[LightGBM] [Warning] No further splits with positive gain, best gain: -inf\n",
            "[LightGBM] [Warning] No further splits with positive gain, best gain: -inf\n",
            "[LightGBM] [Warning] No further splits with positive gain, best gain: -inf\n",
            "[LightGBM] [Warning] No further splits with positive gain, best gain: -inf\n",
            "[LightGBM] [Warning] No further splits with positive gain, best gain: -inf\n",
            "[LightGBM] [Warning] No further splits with positive gain, best gain: -inf\n",
            "[LightGBM] [Warning] No further splits with positive gain, best gain: -inf\n",
            "[LightGBM] [Warning] No further splits with positive gain, best gain: -inf\n",
            "[LightGBM] [Warning] No further splits with positive gain, best gain: -inf\n",
            "[LightGBM] [Warning] No further splits with positive gain, best gain: -inf\n",
            "[LightGBM] [Warning] No further splits with positive gain, best gain: -inf\n",
            "[LightGBM] [Warning] No further splits with positive gain, best gain: -inf\n",
            "[LightGBM] [Warning] No further splits with positive gain, best gain: -inf\n",
            "[LightGBM] [Warning] No further splits with positive gain, best gain: -inf\n",
            "[LightGBM] [Warning] No further splits with positive gain, best gain: -inf\n",
            "[LightGBM] [Warning] No further splits with positive gain, best gain: -inf\n",
            "[LightGBM] [Warning] No further splits with positive gain, best gain: -inf\n",
            "[LightGBM] [Warning] No further splits with positive gain, best gain: -inf\n",
            "[LightGBM] [Warning] No further splits with positive gain, best gain: -inf\n",
            "[LightGBM] [Warning] No further splits with positive gain, best gain: -inf\n",
            "[LightGBM] [Warning] No further splits with positive gain, best gain: -inf\n",
            "[LightGBM] [Warning] No further splits with positive gain, best gain: -inf\n",
            "[LightGBM] [Warning] No further splits with positive gain, best gain: -inf\n",
            "[LightGBM] [Warning] No further splits with positive gain, best gain: -inf\n",
            "[LightGBM] [Warning] No further splits with positive gain, best gain: -inf\n",
            "[LightGBM] [Warning] No further splits with positive gain, best gain: -inf\n",
            "[LightGBM] [Warning] No further splits with positive gain, best gain: -inf\n",
            "[LightGBM] [Warning] No further splits with positive gain, best gain: -inf\n",
            "[LightGBM] [Warning] No further splits with positive gain, best gain: -inf\n",
            "[LightGBM] [Warning] No further splits with positive gain, best gain: -inf\n",
            "[LightGBM] [Warning] No further splits with positive gain, best gain: -inf\n",
            "[LightGBM] [Warning] No further splits with positive gain, best gain: -inf\n",
            "[LightGBM] [Warning] No further splits with positive gain, best gain: -inf\n",
            "[LightGBM] [Warning] No further splits with positive gain, best gain: -inf\n",
            "[LightGBM] [Warning] No further splits with positive gain, best gain: -inf\n",
            "[LightGBM] [Warning] No further splits with positive gain, best gain: -inf\n",
            "[LightGBM] [Warning] No further splits with positive gain, best gain: -inf\n",
            "[LightGBM] [Warning] No further splits with positive gain, best gain: -inf\n",
            "[LightGBM] [Warning] No further splits with positive gain, best gain: -inf\n",
            "[LightGBM] [Warning] No further splits with positive gain, best gain: -inf\n",
            "[LightGBM] [Warning] No further splits with positive gain, best gain: -inf\n",
            "[LightGBM] [Warning] No further splits with positive gain, best gain: -inf\n",
            "[LightGBM] [Warning] No further splits with positive gain, best gain: -inf\n",
            "[LightGBM] [Warning] No further splits with positive gain, best gain: -inf\n",
            "[LightGBM] [Warning] No further splits with positive gain, best gain: -inf\n",
            "[LightGBM] [Warning] No further splits with positive gain, best gain: -inf\n",
            "[LightGBM] [Warning] No further splits with positive gain, best gain: -inf\n",
            "[LightGBM] [Warning] No further splits with positive gain, best gain: -inf\n",
            "[LightGBM] [Warning] No further splits with positive gain, best gain: -inf\n",
            "[LightGBM] [Warning] No further splits with positive gain, best gain: -inf\n",
            "[LightGBM] [Warning] No further splits with positive gain, best gain: -inf\n",
            "[LightGBM] [Warning] No further splits with positive gain, best gain: -inf\n",
            "[LightGBM] [Warning] No further splits with positive gain, best gain: -inf\n",
            "[LightGBM] [Warning] No further splits with positive gain, best gain: -inf\n",
            "[LightGBM] [Warning] No further splits with positive gain, best gain: -inf\n",
            "[LightGBM] [Warning] No further splits with positive gain, best gain: -inf\n",
            "[LightGBM] [Warning] No further splits with positive gain, best gain: -inf\n",
            "[LightGBM] [Warning] No further splits with positive gain, best gain: -inf\n",
            "[LightGBM] [Warning] No further splits with positive gain, best gain: -inf\n",
            "[LightGBM] [Warning] No further splits with positive gain, best gain: -inf\n",
            "[LightGBM] [Warning] No further splits with positive gain, best gain: -inf\n",
            "[LightGBM] [Warning] No further splits with positive gain, best gain: -inf\n",
            "[LightGBM] [Warning] No further splits with positive gain, best gain: -inf\n",
            "[LightGBM] [Warning] No further splits with positive gain, best gain: -inf\n",
            "[LightGBM] [Warning] No further splits with positive gain, best gain: -inf\n",
            "[LightGBM] [Warning] No further splits with positive gain, best gain: -inf\n",
            "[LightGBM] [Warning] No further splits with positive gain, best gain: -inf\n",
            "[LightGBM] [Warning] No further splits with positive gain, best gain: -inf\n",
            "[LightGBM] [Warning] No further splits with positive gain, best gain: -inf\n",
            "[LightGBM] [Warning] No further splits with positive gain, best gain: -inf\n",
            "[LightGBM] [Warning] No further splits with positive gain, best gain: -inf\n",
            "[LightGBM] [Warning] No further splits with positive gain, best gain: -inf\n",
            "[LightGBM] [Warning] No further splits with positive gain, best gain: -inf\n",
            "[LightGBM] [Warning] No further splits with positive gain, best gain: -inf\n",
            "[LightGBM] [Warning] No further splits with positive gain, best gain: -inf\n",
            "[LightGBM] [Warning] No further splits with positive gain, best gain: -inf\n",
            "[LightGBM] [Warning] No further splits with positive gain, best gain: -inf\n",
            "[LightGBM] [Warning] No further splits with positive gain, best gain: -inf\n",
            "[LightGBM] [Warning] No further splits with positive gain, best gain: -inf\n",
            "[LightGBM] [Warning] No further splits with positive gain, best gain: -inf\n",
            "[LightGBM] [Warning] No further splits with positive gain, best gain: -inf\n",
            "[LightGBM] [Warning] No further splits with positive gain, best gain: -inf\n",
            "[LightGBM] [Warning] No further splits with positive gain, best gain: -inf\n",
            "[LightGBM] [Warning] No further splits with positive gain, best gain: -inf\n",
            "[LightGBM] [Warning] No further splits with positive gain, best gain: -inf\n",
            "[LightGBM] [Warning] No further splits with positive gain, best gain: -inf\n",
            "[LightGBM] [Warning] No further splits with positive gain, best gain: -inf\n",
            "[LightGBM] [Warning] No further splits with positive gain, best gain: -inf\n",
            "[LightGBM] [Warning] No further splits with positive gain, best gain: -inf\n",
            "[LightGBM] [Warning] No further splits with positive gain, best gain: -inf\n",
            "[LightGBM] [Warning] No further splits with positive gain, best gain: -inf\n",
            "[LightGBM] [Warning] No further splits with positive gain, best gain: -inf\n",
            "[LightGBM] [Warning] No further splits with positive gain, best gain: -inf\n",
            "[LightGBM] [Warning] No further splits with positive gain, best gain: -inf\n",
            "[LightGBM] [Warning] No further splits with positive gain, best gain: -inf\n",
            "[LightGBM] [Warning] No further splits with positive gain, best gain: -inf\n",
            "[LightGBM] [Warning] No further splits with positive gain, best gain: -inf\n",
            "[LightGBM] [Warning] No further splits with positive gain, best gain: -inf\n",
            "[LightGBM] [Warning] No further splits with positive gain, best gain: -inf\n",
            "[LightGBM] [Warning] No further splits with positive gain, best gain: -inf\n",
            "[LightGBM] [Warning] No further splits with positive gain, best gain: -inf\n",
            "[LightGBM] [Warning] No further splits with positive gain, best gain: -inf\n",
            "[LightGBM] [Warning] No further splits with positive gain, best gain: -inf\n",
            "[LightGBM] [Warning] No further splits with positive gain, best gain: -inf\n",
            "[LightGBM] [Warning] No further splits with positive gain, best gain: -inf\n",
            "[LightGBM] [Warning] No further splits with positive gain, best gain: -inf\n",
            "[LightGBM] [Warning] No further splits with positive gain, best gain: -inf\n",
            "[LightGBM] [Warning] No further splits with positive gain, best gain: -inf\n",
            "[LightGBM] [Warning] No further splits with positive gain, best gain: -inf\n",
            "Время выполнения fit: 79.9145 секунд\n",
            "Время выполнения predict: 0.0605 секунд\n",
            "Accuracy with LGBM on train: 1.0\n",
            "Accuracy with LGBM on test: 0.83\n"
          ]
        }
      ]
    },
    {
      "cell_type": "code",
      "source": [
        "np.random.seed(52)\n",
        "\n",
        "lgbm = LGBMClassifier(n_estimators=100)\n",
        "\n",
        "start_time = time.time()\n",
        "lgbm.fit(x_train_pca, y_train_subset)\n",
        "end_time = time.time()\n",
        "print(f\"Время выполнения fit: {end_time - start_time:.4f} секунд\")\n",
        "\n",
        "start_time = time.time()\n",
        "lgbm.predict(x_test_pca)\n",
        "end_time = time.time()\n",
        "print(f\"Время выполнения predict: {end_time - start_time:.4f} секунд\")\n",
        "\n",
        "print(f'Accuracy with LGBM + PCA on train: {accuracy_score(y_train_subset, lgbm.predict(x_train_pca))}')\n",
        "print(f'Accuracy with LGBM + PCA on test: {accuracy_score(y_test_subset, lgbm.predict(x_test_pca))}')"
      ],
      "metadata": {
        "colab": {
          "base_uri": "https://localhost:8080/"
        },
        "id": "5f222o6rI5zT",
        "outputId": "c13c3ca4-ba9e-4ccb-86d2-e9628f82682c"
      },
      "execution_count": null,
      "outputs": [
        {
          "output_type": "stream",
          "name": "stdout",
          "text": [
            "[LightGBM] [Info] Auto-choosing col-wise multi-threading, the overhead of testing was 0.004989 seconds.\n",
            "You can set `force_col_wise=true` to remove the overhead.\n",
            "[LightGBM] [Info] Total Bins 25500\n",
            "[LightGBM] [Info] Number of data points in the train set: 3000, number of used features: 100\n",
            "[LightGBM] [Info] Start training from score -2.326195\n",
            "[LightGBM] [Info] Start training from score -2.228715\n",
            "[LightGBM] [Info] Start training from score -2.286056\n",
            "[LightGBM] [Info] Start training from score -2.305924\n",
            "[LightGBM] [Info] Start training from score -2.279520\n",
            "[LightGBM] [Info] Start training from score -2.295941\n",
            "[LightGBM] [Info] Start training from score -2.407946\n",
            "[LightGBM] [Info] Start training from score -2.309274\n",
            "[LightGBM] [Info] Start training from score -2.260164\n",
            "[LightGBM] [Info] Start training from score -2.336487\n",
            "[LightGBM] [Warning] No further splits with positive gain, best gain: -inf\n",
            "[LightGBM] [Warning] No further splits with positive gain, best gain: -inf\n",
            "[LightGBM] [Warning] No further splits with positive gain, best gain: -inf\n",
            "[LightGBM] [Warning] No further splits with positive gain, best gain: -inf\n",
            "[LightGBM] [Warning] No further splits with positive gain, best gain: -inf\n",
            "[LightGBM] [Warning] No further splits with positive gain, best gain: -inf\n",
            "[LightGBM] [Warning] No further splits with positive gain, best gain: -inf\n",
            "[LightGBM] [Warning] No further splits with positive gain, best gain: -inf\n",
            "[LightGBM] [Warning] No further splits with positive gain, best gain: -inf\n",
            "[LightGBM] [Warning] No further splits with positive gain, best gain: -inf\n",
            "[LightGBM] [Warning] No further splits with positive gain, best gain: -inf\n",
            "[LightGBM] [Warning] No further splits with positive gain, best gain: -inf\n",
            "[LightGBM] [Warning] No further splits with positive gain, best gain: -inf\n",
            "[LightGBM] [Warning] No further splits with positive gain, best gain: -inf\n",
            "[LightGBM] [Warning] No further splits with positive gain, best gain: -inf\n",
            "[LightGBM] [Warning] No further splits with positive gain, best gain: -inf\n",
            "[LightGBM] [Warning] No further splits with positive gain, best gain: -inf\n",
            "[LightGBM] [Warning] No further splits with positive gain, best gain: -inf\n",
            "[LightGBM] [Warning] No further splits with positive gain, best gain: -inf\n",
            "[LightGBM] [Warning] No further splits with positive gain, best gain: -inf\n",
            "[LightGBM] [Warning] No further splits with positive gain, best gain: -inf\n",
            "[LightGBM] [Warning] No further splits with positive gain, best gain: -inf\n",
            "[LightGBM] [Warning] No further splits with positive gain, best gain: -inf\n",
            "[LightGBM] [Warning] No further splits with positive gain, best gain: -inf\n",
            "[LightGBM] [Warning] No further splits with positive gain, best gain: -inf\n",
            "[LightGBM] [Warning] No further splits with positive gain, best gain: -inf\n",
            "[LightGBM] [Warning] No further splits with positive gain, best gain: -inf\n",
            "[LightGBM] [Warning] No further splits with positive gain, best gain: -inf\n",
            "[LightGBM] [Warning] No further splits with positive gain, best gain: -inf\n",
            "[LightGBM] [Warning] No further splits with positive gain, best gain: -inf\n",
            "[LightGBM] [Warning] No further splits with positive gain, best gain: -inf\n",
            "[LightGBM] [Warning] No further splits with positive gain, best gain: -inf\n",
            "[LightGBM] [Warning] No further splits with positive gain, best gain: -inf\n",
            "[LightGBM] [Warning] No further splits with positive gain, best gain: -inf\n",
            "[LightGBM] [Warning] No further splits with positive gain, best gain: -inf\n",
            "[LightGBM] [Warning] No further splits with positive gain, best gain: -inf\n",
            "[LightGBM] [Warning] No further splits with positive gain, best gain: -inf\n",
            "[LightGBM] [Warning] No further splits with positive gain, best gain: -inf\n",
            "[LightGBM] [Warning] No further splits with positive gain, best gain: -inf\n",
            "[LightGBM] [Warning] No further splits with positive gain, best gain: -inf\n",
            "[LightGBM] [Warning] No further splits with positive gain, best gain: -inf\n",
            "[LightGBM] [Warning] No further splits with positive gain, best gain: -inf\n",
            "[LightGBM] [Warning] No further splits with positive gain, best gain: -inf\n",
            "[LightGBM] [Warning] No further splits with positive gain, best gain: -inf\n",
            "[LightGBM] [Warning] No further splits with positive gain, best gain: -inf\n",
            "[LightGBM] [Warning] No further splits with positive gain, best gain: -inf\n",
            "[LightGBM] [Warning] No further splits with positive gain, best gain: -inf\n",
            "[LightGBM] [Warning] No further splits with positive gain, best gain: -inf\n",
            "[LightGBM] [Warning] No further splits with positive gain, best gain: -inf\n",
            "[LightGBM] [Warning] No further splits with positive gain, best gain: -inf\n",
            "[LightGBM] [Warning] No further splits with positive gain, best gain: -inf\n",
            "[LightGBM] [Warning] No further splits with positive gain, best gain: -inf\n",
            "[LightGBM] [Warning] No further splits with positive gain, best gain: -inf\n",
            "[LightGBM] [Warning] No further splits with positive gain, best gain: -inf\n",
            "[LightGBM] [Warning] No further splits with positive gain, best gain: -inf\n",
            "[LightGBM] [Warning] No further splits with positive gain, best gain: -inf\n",
            "[LightGBM] [Warning] No further splits with positive gain, best gain: -inf\n",
            "[LightGBM] [Warning] No further splits with positive gain, best gain: -inf\n",
            "[LightGBM] [Warning] No further splits with positive gain, best gain: -inf\n",
            "[LightGBM] [Warning] No further splits with positive gain, best gain: -inf\n",
            "[LightGBM] [Warning] No further splits with positive gain, best gain: -inf\n",
            "[LightGBM] [Warning] No further splits with positive gain, best gain: -inf\n",
            "[LightGBM] [Warning] No further splits with positive gain, best gain: -inf\n",
            "[LightGBM] [Warning] No further splits with positive gain, best gain: -inf\n",
            "[LightGBM] [Warning] No further splits with positive gain, best gain: -inf\n",
            "[LightGBM] [Warning] No further splits with positive gain, best gain: -inf\n",
            "[LightGBM] [Warning] No further splits with positive gain, best gain: -inf\n",
            "[LightGBM] [Warning] No further splits with positive gain, best gain: -inf\n",
            "[LightGBM] [Warning] No further splits with positive gain, best gain: -inf\n",
            "[LightGBM] [Warning] No further splits with positive gain, best gain: -inf\n",
            "[LightGBM] [Warning] No further splits with positive gain, best gain: -inf\n",
            "[LightGBM] [Warning] No further splits with positive gain, best gain: -inf\n",
            "[LightGBM] [Warning] No further splits with positive gain, best gain: -inf\n",
            "[LightGBM] [Warning] No further splits with positive gain, best gain: -inf\n",
            "[LightGBM] [Warning] No further splits with positive gain, best gain: -inf\n",
            "[LightGBM] [Warning] No further splits with positive gain, best gain: -inf\n",
            "[LightGBM] [Warning] No further splits with positive gain, best gain: -inf\n",
            "[LightGBM] [Warning] No further splits with positive gain, best gain: -inf\n",
            "[LightGBM] [Warning] No further splits with positive gain, best gain: -inf\n",
            "[LightGBM] [Warning] No further splits with positive gain, best gain: -inf\n",
            "[LightGBM] [Warning] No further splits with positive gain, best gain: -inf\n",
            "[LightGBM] [Warning] No further splits with positive gain, best gain: -inf\n",
            "[LightGBM] [Warning] No further splits with positive gain, best gain: -inf\n",
            "[LightGBM] [Warning] No further splits with positive gain, best gain: -inf\n",
            "[LightGBM] [Warning] No further splits with positive gain, best gain: -inf\n",
            "[LightGBM] [Warning] No further splits with positive gain, best gain: -inf\n",
            "[LightGBM] [Warning] No further splits with positive gain, best gain: -inf\n",
            "[LightGBM] [Warning] No further splits with positive gain, best gain: -inf\n",
            "[LightGBM] [Warning] No further splits with positive gain, best gain: -inf\n",
            "[LightGBM] [Warning] No further splits with positive gain, best gain: -inf\n",
            "[LightGBM] [Warning] No further splits with positive gain, best gain: -inf\n",
            "[LightGBM] [Warning] No further splits with positive gain, best gain: -inf\n",
            "[LightGBM] [Warning] No further splits with positive gain, best gain: -inf\n",
            "[LightGBM] [Warning] No further splits with positive gain, best gain: -inf\n",
            "[LightGBM] [Warning] No further splits with positive gain, best gain: -inf\n",
            "[LightGBM] [Warning] No further splits with positive gain, best gain: -inf\n",
            "[LightGBM] [Warning] No further splits with positive gain, best gain: -inf\n",
            "[LightGBM] [Warning] No further splits with positive gain, best gain: -inf\n",
            "[LightGBM] [Warning] No further splits with positive gain, best gain: -inf\n",
            "[LightGBM] [Warning] No further splits with positive gain, best gain: -inf\n",
            "[LightGBM] [Warning] No further splits with positive gain, best gain: -inf\n",
            "[LightGBM] [Warning] No further splits with positive gain, best gain: -inf\n",
            "[LightGBM] [Warning] No further splits with positive gain, best gain: -inf\n",
            "[LightGBM] [Warning] No further splits with positive gain, best gain: -inf\n",
            "[LightGBM] [Warning] No further splits with positive gain, best gain: -inf\n",
            "[LightGBM] [Warning] No further splits with positive gain, best gain: -inf\n",
            "[LightGBM] [Warning] No further splits with positive gain, best gain: -inf\n",
            "[LightGBM] [Warning] No further splits with positive gain, best gain: -inf\n",
            "[LightGBM] [Warning] No further splits with positive gain, best gain: -inf\n",
            "Время выполнения fit: 16.7768 секунд\n",
            "Время выполнения predict: 0.0674 секунд\n",
            "Accuracy with LGBM + PCA on train: 1.0\n",
            "Accuracy with LGBM + PCA on test: 0.812\n"
          ]
        }
      ]
    },
    {
      "cell_type": "markdown",
      "source": [
        "С точки зрения качества на тестовой выборке SVM + RFF + PCA показала себя лучше всех. При этом надо учесть тот факт, что модели обучались на 1/20 всей обучающей выборки, так что, наверное, бустинг мог бы перебить нашу модель. При этом очевидно, что PCA ухушает качество всех моделей, кроме тех, в которых используется RFF."
      ],
      "metadata": {
        "id": "kIPibWEFnGLf"
      }
    },
    {
      "cell_type": "markdown",
      "metadata": {
        "id": "e6umjhWuK-hV"
      },
      "source": [
        "__Задание 3. (2 балла)__\n",
        "\n",
        "Проведите эксперименты:\n",
        "1. Помогает ли предварительное понижение размерности с помощью PCA?\n",
        "2. Как зависит итоговое качество от n_features? Выходит ли оно на плато при росте n_features?\n",
        "3. Важно ли, какую модель обучать — логистическую регрессию или SVM?"
      ]
    },
    {
      "cell_type": "code",
      "execution_count": null,
      "metadata": {
        "id": "c2QIHIMbK-hW",
        "colab": {
          "base_uri": "https://localhost:8080/"
        },
        "outputId": "929423a0-36f8-4485-88c2-034db946416b"
      },
      "outputs": [
        {
          "output_type": "stream",
          "name": "stdout",
          "text": [
            "Train Accuracy: 0.1890\n",
            "Test Accuracy: 0.1067\n"
          ]
        }
      ],
      "source": [
        "np.random.seed(52)\n",
        "pipeline_no_PCA = RFFPipeline(n_features=1000, new_dim=50, use_PCA = False, feature_creator_class=RandomFeatureCreator)\n",
        "pipeline_no_PCA.fit(x_train, y_train)\n",
        "\n",
        "accuracy = accuracy_score(y_train, pipeline_no_PCA.predict(x_train))\n",
        "print(f\"Train Accuracy: {accuracy:.4f}\")\n",
        "\n",
        "final_accuracy = accuracy_score(y_test, pipeline_no_PCA.predict(x_test))\n",
        "print(f\"Test Accuracy: {final_accuracy:.4f}\")"
      ]
    },
    {
      "cell_type": "markdown",
      "source": [
        "Как можно заметить, в первом задании у нас по условию используется PCA и там мы получили accuracy 0.86. Тут мы специально выключили использование PCA и получили accuracy 0.11. Вывод: PCA помогает."
      ],
      "metadata": {
        "id": "Ab5BYMZjsswv"
      }
    },
    {
      "cell_type": "code",
      "source": [
        "np.random.seed(52)\n",
        "s = []\n",
        "for num in [100, 500, 1000, 2000, 4000]:\n",
        "    pipeline_for_test = RFFPipeline(n_features=num, new_dim=50, use_PCA = True, feature_creator_class=RandomFeatureCreator)\n",
        "    pipeline_for_test.fit(x_train, y_train)\n",
        "\n",
        "    accuracy = accuracy_score(y_train, pipeline_for_test.predict(x_train))\n",
        "    print(f\"Train Accuracy: {accuracy:.4f}\")\n",
        "\n",
        "    final_accuracy = accuracy_score(y_test, pipeline_for_test.predict(x_test))\n",
        "    print(f\"Test Accuracy: {final_accuracy:.4f}\")\n",
        "    s.append(final_accuracy)"
      ],
      "metadata": {
        "colab": {
          "base_uri": "https://localhost:8080/"
        },
        "id": "cD9zIYv-stAV",
        "outputId": "deb11a52-758c-431b-dfef-4e21ba2faa59"
      },
      "execution_count": null,
      "outputs": [
        {
          "output_type": "stream",
          "name": "stdout",
          "text": [
            "Train Accuracy: 0.8204\n",
            "Test Accuracy: 0.8067\n",
            "Train Accuracy: 0.8782\n",
            "Test Accuracy: 0.8549\n",
            "Train Accuracy: 0.8875\n",
            "Test Accuracy: 0.8596\n",
            "Train Accuracy: 0.8947\n",
            "Test Accuracy: 0.8655\n",
            "Train Accuracy: 0.8983\n",
            "Test Accuracy: 0.8690\n"
          ]
        }
      ]
    },
    {
      "cell_type": "code",
      "source": [
        "import matplotlib.pyplot as plt"
      ],
      "metadata": {
        "id": "BggfIHCDylA1"
      },
      "execution_count": null,
      "outputs": []
    },
    {
      "cell_type": "code",
      "source": [
        "plt.plot(['100', '500', '1000', '2000', '4000'], s, marker='o')\n",
        "\n",
        "plt.xlabel('n_features')\n",
        "plt.ylabel('accuracy')\n",
        "\n",
        "plt.show()"
      ],
      "metadata": {
        "colab": {
          "base_uri": "https://localhost:8080/",
          "height": 450
        },
        "id": "k81Cyf1RwDJz",
        "outputId": "b78bf59e-0c54-434d-b568-d63e89726e9a"
      },
      "execution_count": null,
      "outputs": [
        {
          "output_type": "display_data",
          "data": {
            "text/plain": [
              "<Figure size 640x480 with 1 Axes>"
            ],
            "image/png": "[encoded data removed]"
          },
          "metadata": {}
        }
      ]
    },
    {
      "cell_type": "markdown",
      "source": [
        "Из графика очевидно, что с повышением n_features выходит на плато."
      ],
      "metadata": {
        "id": "sP_usJHctC-7"
      }
    },
    {
      "cell_type": "code",
      "source": [
        "np.random.seed(52)\n",
        "pipeline_SVC = RFFPipeline(n_features=1000, new_dim=50, use_PCA = True, feature_creator_class=RandomFeatureCreator, classifier_class = SVC)\n",
        "\n",
        "start_time = time.time()\n",
        "pipeline_SVC.fit(x_train_subset, y_train_subset)\n",
        "end_time = time.time()\n",
        "print(f\"Время выполнения fit: {end_time - start_time:.4f} секунд\")\n",
        "\n",
        "start_time = time.time()\n",
        "preds = pipeline_SVC.predict(x_test_subset)\n",
        "end_time = time.time()\n",
        "print(f\"Время выполнения predict: {end_time - start_time:.4f} секунд\")\n",
        "\n",
        "final_accuracy = accuracy_score(y_test_subset, preds)\n",
        "print(f\"Test Accuracy: {final_accuracy:.4f}\")"
      ],
      "metadata": {
        "colab": {
          "base_uri": "https://localhost:8080/"
        },
        "id": "IRZMcfLktJwQ",
        "outputId": "47bae282-4188-454c-9bf8-79f6f5c9fc42"
      },
      "execution_count": null,
      "outputs": [
        {
          "output_type": "stream",
          "name": "stdout",
          "text": [
            "Время выполнения fit: 9.3339 секунд\n",
            "Время выполнения predict: 3.2970 секунд\n",
            "Test Accuracy: 0.8320\n"
          ]
        }
      ]
    },
    {
      "cell_type": "markdown",
      "source": [
        "SVM показал себя лучше обычной модели с RFF, но при этом очень-очень долго обучался и делал предикты."
      ],
      "metadata": {
        "id": "22EzCRRfqpgr"
      }
    },
    {
      "cell_type": "markdown",
      "metadata": {
        "id": "QVDWHCdrK-hX"
      },
      "source": [
        "__Задание 4. (Максимум 1.5 балла)__\n",
        "\n",
        "Как вы, должно быть, помните с курса МО-1, многие алгоритмы машинного обучения работают лучше, если признаки данных некоррелированы. Оказывается, что для RFF существует модификация, позволяющая получать ортогональные случайные признаки (Orthogonal Random Features, ORF). Об этом методе можно прочитать в [статье](https://proceedings.neurips.cc/paper/2016/file/53adaf494dc89ef7196d73636eb2451b-Paper.pdf). Реализуйте класс для вычисления ORF по аналогии с основным заданием. Обратите внимание, что ваш класс должен уметь работать со случаем n_features > new_dim (в статье есть замечание на этот счет), n_features=new_dim и n_features < new_dim также должны работать, убедитесь в этом. Проведите эксперименты, сравнивающие RFF и ORF, сделайте выводы.\n"
      ]
    },
    {
      "cell_type": "code",
      "source": [
        "from homework_practice_08_rff import OrthogonalRandomFeatureCreator"
      ],
      "metadata": {
        "id": "81J5cV05qyuI"
      },
      "execution_count": null,
      "outputs": []
    },
    {
      "cell_type": "code",
      "execution_count": null,
      "metadata": {
        "id": "HSxvGI9iK-hX",
        "colab": {
          "base_uri": "https://localhost:8080/"
        },
        "outputId": "fff183d3-46b2-4030-ec71-8f8148e5bc75"
      },
      "outputs": [
        {
          "output_type": "stream",
          "name": "stderr",
          "text": [
            "/usr/local/lib/python3.11/dist-packages/sklearn/linear_model/_logistic.py:465: ConvergenceWarning: lbfgs failed to converge (status=1):\n",
            "STOP: TOTAL NO. of ITERATIONS REACHED LIMIT.\n",
            "\n",
            "Increase the number of iterations (max_iter) or scale the data as shown in:\n",
            "    https://scikit-learn.org/stable/modules/preprocessing.html\n",
            "Please also refer to the documentation for alternative solver options:\n",
            "    https://scikit-learn.org/stable/modules/linear_model.html#logistic-regression\n",
            "  n_iter_i = _check_optimize_result(\n"
          ]
        },
        {
          "output_type": "stream",
          "name": "stdout",
          "text": [
            "Время выполнения fit: 91.7922 секунд\n",
            "Время выполнения predict: 1.4748 секунд\n",
            "Train Accuracy: 0.8891\n",
            "Test Accuracy: 0.8634\n"
          ]
        }
      ],
      "source": [
        "np.random.seed(52)\n",
        "pipeline_orf = RFFPipeline(n_features=1000, new_dim=50, feature_creator_class=OrthogonalRandomFeatureCreator)\n",
        "\n",
        "start_time = time.time()\n",
        "pipeline_orf.fit(x_train, y_train)\n",
        "end_time = time.time()\n",
        "print(f\"Время выполнения fit: {end_time - start_time:.4f} секунд\")\n",
        "\n",
        "start_time = time.time()\n",
        "preds = pipeline_orf.predict(x_test)\n",
        "end_time = time.time()\n",
        "print(f\"Время выполнения predict: {end_time - start_time:.4f} секунд\")\n",
        "\n",
        "accuracy = accuracy_score(y_train, pipeline_orf.predict(x_train))\n",
        "print(f\"Train Accuracy: {accuracy:.4f}\")\n",
        "\n",
        "final_accuracy = accuracy_score(y_test, preds)\n",
        "print(f\"Test Accuracy: {final_accuracy:.4f}\")"
      ]
    },
    {
      "cell_type": "markdown",
      "source": [
        "Можно сказать, что ORF показал себя немного лучше, чем RFF по целевой метрике, но при этом он всё ещё хуже RFF + SVM."
      ],
      "metadata": {
        "id": "6VxrO8XdoQIf"
      }
    },
    {
      "cell_type": "markdown",
      "metadata": {
        "id": "4pc7-1jmK-hY"
      },
      "source": [
        "__Задание 5. (Максимум 1 балл)__\n",
        "\n",
        "Существует большое количество работ, где идея RFF развивается, предлагаются её обобщения (которые, по сути, выливаются в другие преобразования признаков, не обязательно уже тригонометрические). Возьмите любую из таких работ, кратко опишите идею, имплементируйте её и сравните качество с ORF и RFF, которые вы запрограммировали выше.\n",
        "\n",
        "Ссылки на статьи, где обсуждаются вариации RFF для разных ядер, можно найти в окрестности таблицы 1 в работе https://arxiv.org/pdf/1407.5599  \n",
        "\n",
        "___ссылка на работу:___ https://arxiv.org/pdf/2212.07658\n",
        "\n",
        "___описание идеи:___ В данной статье авторы используют полиномиальные ядра. Главным отличием от RFF является тот факт, что RFF может работать только с положительно определёнными и симметричными ядрами, а полиномиальные ядра таковыми не являются. (вообще я взял уже готовую реализацию из scikit-learn)"
      ]
    },
    {
      "cell_type": "code",
      "source": [
        "from sklearn.preprocessing import PolynomialFeatures"
      ],
      "metadata": {
        "id": "lBSoF_5nl64f"
      },
      "execution_count": null,
      "outputs": []
    },
    {
      "cell_type": "code",
      "source": [
        "np.random.seed(52)\n",
        "\n",
        "poly_features = PolynomialFeatures(degree=(1, 2))\n",
        "x_train_poly = poly_features.fit_transform(x_train_subset)\n",
        "x_test_poly = poly_features.transform(x_test_subset)"
      ],
      "metadata": {
        "id": "80dFg885nisW"
      },
      "execution_count": null,
      "outputs": []
    },
    {
      "cell_type": "code",
      "execution_count": null,
      "metadata": {
        "id": "dWj-O2vjK-hY",
        "colab": {
          "base_uri": "https://localhost:8080/"
        },
        "outputId": "5fc139e9-b020-4277-a1a6-c67b1b07120a"
      },
      "outputs": [
        {
          "output_type": "stream",
          "name": "stderr",
          "text": [
            "/usr/local/lib/python3.11/dist-packages/sklearn/linear_model/_logistic.py:465: ConvergenceWarning: lbfgs failed to converge (status=1):\n",
            "STOP: TOTAL NO. of ITERATIONS REACHED LIMIT.\n",
            "\n",
            "Increase the number of iterations (max_iter) or scale the data as shown in:\n",
            "    https://scikit-learn.org/stable/modules/preprocessing.html\n",
            "Please also refer to the documentation for alternative solver options:\n",
            "    https://scikit-learn.org/stable/modules/linear_model.html#logistic-regression\n",
            "  n_iter_i = _check_optimize_result(\n"
          ]
        },
        {
          "output_type": "stream",
          "name": "stdout",
          "text": [
            "Время выполнения fit: 678.1874 секунд\n",
            "Время выполнения predict: 0.5282 секунд\n",
            "Accuracy with Kernel SVM on train: 1.0\n",
            "Accuracy with Kernel SVM on test: 0.81\n"
          ]
        }
      ],
      "source": [
        "np.random.seed(52)\n",
        "\n",
        "log_reg_poly = LogisticRegression()\n",
        "\n",
        "start_time = time.time()\n",
        "log_reg_poly.fit(x_train_poly, y_train_subset)\n",
        "end_time = time.time()\n",
        "print(f\"Время выполнения fit: {end_time - start_time:.4f} секунд\")\n",
        "\n",
        "start_time = time.time()\n",
        "preds = log_reg_poly.predict(x_test_poly)\n",
        "end_time = time.time()\n",
        "print(f\"Время выполнения predict: {end_time - start_time:.4f} секунд\")\n",
        "\n",
        "print(f'Accuracy with Kernel SVM on train: {accuracy_score(y_train_subset, log_reg_poly.predict(x_train_poly))}')\n",
        "print(f'Accuracy with Kernel SVM on test: {accuracy_score(y_test_subset, preds)}')"
      ]
    },
    {
      "cell_type": "markdown",
      "source": [
        "В данном задании применяется уже обычная логистическая регрессия дополнительными полиномиальными признаками. Как можно заметить, она похуже, чем наш пайплайн с RFF + PCA. Возможно, в данном случае тоже нужно использовать PCA, но алгоритм слишком долго работает, поэтому не будем."
      ],
      "metadata": {
        "id": "yJSOfSR_sScl"
      }
    },
    {
      "cell_type": "markdown",
      "metadata": {
        "id": "ePdzSsa6j__O"
      },
      "source": [
        "__Задание 6. (Максимум 2.5 балла)__\n",
        "\n",
        "Реализуйте класс ядровой Ridge регрессии (Лекция 13, $\\S 1.2$), для оптимизации используте градиентный спуск **[1 балл максимум]**, также добавьте возможность использовать аналитическую формулу **[1 балл максимум]**. Для градиентного спуска выпишите градиент ниже **[0.5 баллов максимум]**.\n",
        "Подумайте о том, как в формулах правильно учесть свободный коэффициент.\n",
        "\n",
        "Затем адаптируйте вашу реализацию RFF под задачу регрессии. Сравните вашу ядровую регрессию и RFF на синтетических данных."
      ]
    },
    {
      "cell_type": "markdown",
      "metadata": {
        "id": "maHXPbMoj__O"
      },
      "source": [
        "Функция потерь:\n",
        "$$\n",
        "Q(w) = \\frac{1}{2} ||\\Phi \\Phi^T w - y||^2 + \\frac{\\lambda}{2} w^T \\Phi \\Phi^T w \\rightarrow \\min_w,\n",
        "$$\n",
        "где $\\Phi \\Phi^T = K$, $K = (k(x_i, x_j))_{i, j = 1}^{\\ell}$.\n",
        "\n",
        "Предсказание:\n",
        "$\n",
        "y(x) = k(x)^T w,\n",
        "$\n",
        "где $k(x)$ — вектор функций ядра от пар объектов $(x, x_i)_{i=1}^{\\ell}$.\n",
        "\n",
        "___Выведите градиент:___\n",
        "$$\n",
        "\\nabla Q(w) = \\Phi \\Phi^T(\\Phi \\Phi^Tw - y) + \\lambda\\Phi \\Phi^Tw\n",
        "$$\n",
        "\n",
        "Вы можете изменять представленный шаблон в файле `homework_practice_08_kernel_regression.py` по своему усмотрению."
      ]
    },
    {
      "cell_type": "code",
      "execution_count": null,
      "metadata": {
        "id": "5gg6Jyjej__O"
      },
      "outputs": [],
      "source": [
        "from homework_practice_08_kernel_regression import KernelRidgeRegression"
      ]
    },
    {
      "cell_type": "code",
      "source": [
        "from sklearn.linear_model import Ridge\n",
        "from sklearn.model_selection import train_test_split\n",
        "from sklearn.metrics import mean_squared_error\n",
        "from sklearn.datasets import fetch_california_housing"
      ],
      "metadata": {
        "id": "VrWgspC865iY"
      },
      "execution_count": null,
      "outputs": []
    },
    {
      "cell_type": "code",
      "source": [
        "np.random.seed(52)\n",
        "\n",
        "california = fetch_california_housing()\n",
        "\n",
        "indexes = np.random.choice(len(california.target), size=1000, replace=False)\n",
        "X = california.data[indexes]\n",
        "y = california.target[indexes]\n",
        "\n",
        "X_train, X_test, y_train, y_test = train_test_split(X, y, test_size=0.2, random_state=42)"
      ],
      "metadata": {
        "id": "FI2uCyc7DsJc"
      },
      "execution_count": null,
      "outputs": []
    },
    {
      "cell_type": "code",
      "source": [
        "# Генерация данных\n",
        "np.random.seed(42)\n",
        "\n",
        "# Ядровая Ridge-регрессия\n",
        "kr = KernelRidgeRegression(lr=0.01, regularization=1.0, max_iter=2000)\n",
        "a = kr.fit(X_train, y_train)\n",
        "y_pred_kr = kr.predict(X_test)\n",
        "mse_kr = mean_squared_error(y_test, y_pred_kr)\n",
        "\n",
        "# RFF Ridge-регрессия\n",
        "pipeline_ridge = RFFPipeline(n_features=1000, new_dim=50, feature_creator_class=RandomFeatureCreator, classifier_class=Ridge)\n",
        "b = pipeline_ridge.fit(X_train, y_train)\n",
        "y_pred_rff = pipeline_ridge.predict(X_test)\n",
        "mse_rff = mean_squared_error(y_test, y_pred_rff)\n",
        "\n",
        "print(f\"MSE Kernel Ridge: {mse_kr:.4f}\")\n",
        "print(f\"MSE RFF Ridge: {mse_rff:.4f}\")"
      ],
      "metadata": {
        "colab": {
          "base_uri": "https://localhost:8080/"
        },
        "id": "xj8HtMmQ4LCc",
        "outputId": "5465c636-c114-4167-a747-08d1136443f8"
      },
      "execution_count": null,
      "outputs": [
        {
          "output_type": "stream",
          "name": "stdout",
          "text": [
            "MSE Kernel Ridge: 5.9410\n",
            "MSE RFF Ridge: 0.7797\n"
          ]
        }
      ]
    },
    {
      "cell_type": "code",
      "source": [
        "plt.plot(a)\n",
        "plt.title('MSELoss on Test')\n",
        "plt.ylabel('MSE')\n",
        "plt.xlabel('Iterations')\n",
        "plt.show()"
      ],
      "metadata": {
        "colab": {
          "base_uri": "https://localhost:8080/",
          "height": 472
        },
        "id": "QvqucpIn-JUR",
        "outputId": "daea2015-bd76-48b2-dd3c-bd5288d81eab"
      },
      "execution_count": null,
      "outputs": [
        {
          "output_type": "display_data",
          "data": {
            "text/plain": [
              "<Figure size 640x480 with 1 Axes>"
            ],
            "image/png": "[encoded data removed]"
          },
          "metadata": {}
        }
      ]
    },
    {
      "cell_type": "markdown",
      "source": [
        "Правды ради, я без понятия, почему такая большая разница в лоссе двух моделей, но скорее всего я неверно адаптировал RFFPipeline."
      ],
      "metadata": {
        "id": "LqT7whveMtFx"
      }
    }
  ],
  "metadata": {
    "colab": {
      "provenance": []
    },
    "kernelspec": {
      "display_name": "Python 3",
      "name": "python3"
    },
    "language_info": {
      "codemirror_mode": {
        "name": "ipython",
        "version": 3
      },
      "file_extension": ".py",
      "mimetype": "text/x-python",
      "name": "python",
      "nbconvert_exporter": "python",
      "pygments_lexer": "ipython3",
      "version": "3.12.7"
    }
  },
  "nbformat": 4,
  "nbformat_minor": 0
}